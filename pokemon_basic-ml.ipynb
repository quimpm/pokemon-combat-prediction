{
 "cells": [
  {
   "cell_type": "markdown",
   "id": "5100e620-aba9-4f0f-93bc-cab59a4a4026",
   "metadata": {},
   "source": [
    "# Assignment 2 - Basic Machine Learning to predict Pokémon battles results\n",
    "\n",
    "([From Wikipedia](https://en.wikipedia.org/wiki/Pok%C3%A9mon)) *Pokémon is a Japanese media franchise managed by The Pokémon Company, a company founded by Nintendo, Game Freak, and Creatures. The franchise was created by Satoshi Tajiri in 1996,[4] and is centered on fictional creatures called \"Pokémon\". In Pokémon, humans, known as Pokémon Trainers, catch and train Pokémon to battle other Pokémon for sport.*\n",
    "\n",
    "In this assignment we present you a dataset with the results of several Pokémon battles.\n",
    "\n",
    "Your objective will be to produce a ML model that can predict the outcomes of any Pokémon battle.\n",
    "\n",
    "At first, in this notebook, you will apply some of the basic ML approaches that we have seen in class. At this point you can also work with the *small* versions of the dataset if you want.\n",
    "\n",
    "Later, on the `pokemon-competition.ipynb` notebook, you will train a model using all the data that will be used to predict *real* Pokémon battles.\n",
    "\n",
    "**Dataset Description**\n",
    "\n",
    "Within the `datasets.zip` file that you can download from the virtual campus, you will find the following datasets:\n",
    "\n",
    "- data.train -> Full data available to train the models\n",
    "- data_inverse.train -> Same data as data.train but each combat is seen from the other player's perspective (i.e. pokemon1 becomes pokemon2 and viceversa)\n",
    "- small.train -> Subsample of data.train to allow fast prototyping\n",
    "- small_inverse.train -> Subsample of data_inverse.train to allow fast prototyping\n",
    "- data.hidden -> Dataset with no label available\n",
    "- data_inverse.hidden -> Same as data.hidden but the pokemons are inverted\n",
    "\n",
    "The datasets *.hidden are the ones used to get the tournament score,\n",
    "so the true label is unknown. All the other datasets are available to\n",
    "you to use however you want.\n",
    "\n",
    "*Gotta Train 'Em All!*"
   ]
  },
  {
   "cell_type": "code",
   "execution_count": 15,
   "id": "a4817b09-c29c-48cb-9573-2b57f1eb828f",
   "metadata": {},
   "outputs": [],
   "source": [
    "from pathlib import Path\n",
    "import pandas\n",
    "\n",
    "__wd__ = Path(\"__file__\").resolve().parent\n",
    "datasets_path = __wd__ / \"datasets\"\n",
    "\n",
    "data = pandas.read_csv(datasets_path / \"data.train\", index_col=0)\n",
    "inverse_data = pandas.read_csv(datasets_path / \"data_inverse.train\", index_col=0)\n",
    "\n",
    "def get_Xy(dataset):\n",
    "    return dataset.drop(\"Wins\", axis=1), dataset[\"Wins\"]\n",
    "\n",
    "X, y = get_Xy(data)"
   ]
  },
  {
   "cell_type": "code",
   "execution_count": 46,
   "id": "c41f9e74-4521-413c-9f77-ed70e05b8cc7",
   "metadata": {},
   "outputs": [],
   "source": [
    "# Add your imports here\n",
    "import seaborn as sns\n",
    "import numpy as np\n",
    "import math"
   ]
  },
  {
   "cell_type": "markdown",
   "id": "2028a1d7-7aac-4606-b742-640fc4aefe25",
   "metadata": {
    "tags": []
   },
   "source": [
    "## Part 1 - Analyze the dataset (2 points)\n",
    "The first step of any ML process is to know the data we are dealing with. In this part, you have to analyze the dataset and answer the questions below."
   ]
  },
  {
   "cell_type": "markdown",
   "id": "c09de6d2",
   "metadata": {},
   "source": [
    "#### First look at data"
   ]
  },
  {
   "cell_type": "code",
   "execution_count": 3,
   "id": "b626d354",
   "metadata": {
    "scrolled": true
   },
   "outputs": [
    {
     "data": {
      "text/html": [
       "<div>\n",
       "<style scoped>\n",
       "    .dataframe tbody tr th:only-of-type {\n",
       "        vertical-align: middle;\n",
       "    }\n",
       "\n",
       "    .dataframe tbody tr th {\n",
       "        vertical-align: top;\n",
       "    }\n",
       "\n",
       "    .dataframe thead th {\n",
       "        text-align: right;\n",
       "    }\n",
       "</style>\n",
       "<table border=\"1\" class=\"dataframe\">\n",
       "  <thead>\n",
       "    <tr style=\"text-align: right;\">\n",
       "      <th></th>\n",
       "      <th>Name</th>\n",
       "      <th>Type 1</th>\n",
       "      <th>Type 2</th>\n",
       "      <th>HP</th>\n",
       "      <th>Attack</th>\n",
       "      <th>Defense</th>\n",
       "      <th>Sp. Atk</th>\n",
       "      <th>Sp. Def</th>\n",
       "      <th>Speed</th>\n",
       "      <th>Generation</th>\n",
       "      <th>...</th>\n",
       "      <th>Type 2__other</th>\n",
       "      <th>HP__other</th>\n",
       "      <th>Attack__other</th>\n",
       "      <th>Defense__other</th>\n",
       "      <th>Sp. Atk__other</th>\n",
       "      <th>Sp. Def__other</th>\n",
       "      <th>Speed__other</th>\n",
       "      <th>Generation__other</th>\n",
       "      <th>Legendary__other</th>\n",
       "      <th>Wins</th>\n",
       "    </tr>\n",
       "  </thead>\n",
       "  <tbody>\n",
       "    <tr>\n",
       "      <th>39087</th>\n",
       "      <td>Karrablast</td>\n",
       "      <td>Bug</td>\n",
       "      <td>NaN</td>\n",
       "      <td>50.0</td>\n",
       "      <td>72.0</td>\n",
       "      <td>39.0</td>\n",
       "      <td>39.0</td>\n",
       "      <td>42.0</td>\n",
       "      <td>55.0</td>\n",
       "      <td>5.0</td>\n",
       "      <td>...</td>\n",
       "      <td>NaN</td>\n",
       "      <td>50.0</td>\n",
       "      <td>53.0</td>\n",
       "      <td>43.0</td>\n",
       "      <td>47.0</td>\n",
       "      <td>27.0</td>\n",
       "      <td>40.0</td>\n",
       "      <td>5.0</td>\n",
       "      <td>False</td>\n",
       "      <td>True</td>\n",
       "    </tr>\n",
       "    <tr>\n",
       "      <th>30893</th>\n",
       "      <td>NaN</td>\n",
       "      <td>Rock</td>\n",
       "      <td>Water</td>\n",
       "      <td>70.0</td>\n",
       "      <td>NaN</td>\n",
       "      <td>125.0</td>\n",
       "      <td>113.0</td>\n",
       "      <td>78.0</td>\n",
       "      <td>NaN</td>\n",
       "      <td>1.0</td>\n",
       "      <td>...</td>\n",
       "      <td>NaN</td>\n",
       "      <td>65.0</td>\n",
       "      <td>64.0</td>\n",
       "      <td>NaN</td>\n",
       "      <td>49.0</td>\n",
       "      <td>41.0</td>\n",
       "      <td>39.0</td>\n",
       "      <td>5.0</td>\n",
       "      <td>False</td>\n",
       "      <td>True</td>\n",
       "    </tr>\n",
       "    <tr>\n",
       "      <th>45278</th>\n",
       "      <td>Mega Manectric</td>\n",
       "      <td>Electric</td>\n",
       "      <td>NaN</td>\n",
       "      <td>70.0</td>\n",
       "      <td>77.0</td>\n",
       "      <td>81.0</td>\n",
       "      <td>NaN</td>\n",
       "      <td>91.0</td>\n",
       "      <td>136.0</td>\n",
       "      <td>3.0</td>\n",
       "      <td>...</td>\n",
       "      <td>NaN</td>\n",
       "      <td>NaN</td>\n",
       "      <td>48.0</td>\n",
       "      <td>78.0</td>\n",
       "      <td>NaN</td>\n",
       "      <td>83.0</td>\n",
       "      <td>75.0</td>\n",
       "      <td>5.0</td>\n",
       "      <td>False</td>\n",
       "      <td>True</td>\n",
       "    </tr>\n",
       "    <tr>\n",
       "      <th>16398</th>\n",
       "      <td>Bouffalant</td>\n",
       "      <td>Psychic</td>\n",
       "      <td>NaN</td>\n",
       "      <td>95.0</td>\n",
       "      <td>121.0</td>\n",
       "      <td>NaN</td>\n",
       "      <td>39.0</td>\n",
       "      <td>85.0</td>\n",
       "      <td>NaN</td>\n",
       "      <td>5.0</td>\n",
       "      <td>...</td>\n",
       "      <td>NaN</td>\n",
       "      <td>75.0</td>\n",
       "      <td>108.0</td>\n",
       "      <td>101.0</td>\n",
       "      <td>39.0</td>\n",
       "      <td>68.0</td>\n",
       "      <td>106.0</td>\n",
       "      <td>NaN</td>\n",
       "      <td>False</td>\n",
       "      <td>False</td>\n",
       "    </tr>\n",
       "    <tr>\n",
       "      <th>13653</th>\n",
       "      <td>Swablu</td>\n",
       "      <td>Normal</td>\n",
       "      <td>Flying</td>\n",
       "      <td>45.0</td>\n",
       "      <td>36.0</td>\n",
       "      <td>58.0</td>\n",
       "      <td>37.0</td>\n",
       "      <td>76.0</td>\n",
       "      <td>56.0</td>\n",
       "      <td>3.0</td>\n",
       "      <td>...</td>\n",
       "      <td>Fairy</td>\n",
       "      <td>40.0</td>\n",
       "      <td>46.0</td>\n",
       "      <td>68.0</td>\n",
       "      <td>108.0</td>\n",
       "      <td>123.0</td>\n",
       "      <td>86.0</td>\n",
       "      <td>1.0</td>\n",
       "      <td>False</td>\n",
       "      <td>False</td>\n",
       "    </tr>\n",
       "    <tr>\n",
       "      <th>...</th>\n",
       "      <td>...</td>\n",
       "      <td>...</td>\n",
       "      <td>...</td>\n",
       "      <td>...</td>\n",
       "      <td>...</td>\n",
       "      <td>...</td>\n",
       "      <td>...</td>\n",
       "      <td>...</td>\n",
       "      <td>...</td>\n",
       "      <td>...</td>\n",
       "      <td>...</td>\n",
       "      <td>...</td>\n",
       "      <td>...</td>\n",
       "      <td>...</td>\n",
       "      <td>...</td>\n",
       "      <td>...</td>\n",
       "      <td>...</td>\n",
       "      <td>...</td>\n",
       "      <td>...</td>\n",
       "      <td>...</td>\n",
       "      <td>...</td>\n",
       "    </tr>\n",
       "    <tr>\n",
       "      <th>11284</th>\n",
       "      <td>NaN</td>\n",
       "      <td>Grass</td>\n",
       "      <td>Fairy</td>\n",
       "      <td>60.0</td>\n",
       "      <td>63.0</td>\n",
       "      <td>122.0</td>\n",
       "      <td>79.0</td>\n",
       "      <td>103.0</td>\n",
       "      <td>118.0</td>\n",
       "      <td>5.0</td>\n",
       "      <td>...</td>\n",
       "      <td>NaN</td>\n",
       "      <td>55.0</td>\n",
       "      <td>NaN</td>\n",
       "      <td>107.0</td>\n",
       "      <td>NaN</td>\n",
       "      <td>79.0</td>\n",
       "      <td>56.0</td>\n",
       "      <td>3.0</td>\n",
       "      <td>False</td>\n",
       "      <td>True</td>\n",
       "    </tr>\n",
       "    <tr>\n",
       "      <th>44732</th>\n",
       "      <td>Skrelp</td>\n",
       "      <td>Poison</td>\n",
       "      <td>Water</td>\n",
       "      <td>50.0</td>\n",
       "      <td>63.0</td>\n",
       "      <td>56.0</td>\n",
       "      <td>54.0</td>\n",
       "      <td>54.0</td>\n",
       "      <td>36.0</td>\n",
       "      <td>6.0</td>\n",
       "      <td>...</td>\n",
       "      <td>NaN</td>\n",
       "      <td>65.0</td>\n",
       "      <td>59.0</td>\n",
       "      <td>70.0</td>\n",
       "      <td>79.0</td>\n",
       "      <td>79.0</td>\n",
       "      <td>33.0</td>\n",
       "      <td>1.0</td>\n",
       "      <td>False</td>\n",
       "      <td>False</td>\n",
       "    </tr>\n",
       "    <tr>\n",
       "      <th>38158</th>\n",
       "      <td>Florges</td>\n",
       "      <td>Fairy</td>\n",
       "      <td>NaN</td>\n",
       "      <td>78.0</td>\n",
       "      <td>58.0</td>\n",
       "      <td>65.0</td>\n",
       "      <td>109.0</td>\n",
       "      <td>NaN</td>\n",
       "      <td>75.0</td>\n",
       "      <td>6.0</td>\n",
       "      <td>...</td>\n",
       "      <td>NaN</td>\n",
       "      <td>104.0</td>\n",
       "      <td>91.0</td>\n",
       "      <td>61.0</td>\n",
       "      <td>97.0</td>\n",
       "      <td>117.0</td>\n",
       "      <td>68.0</td>\n",
       "      <td>3.0</td>\n",
       "      <td>NaN</td>\n",
       "      <td>True</td>\n",
       "    </tr>\n",
       "    <tr>\n",
       "      <th>860</th>\n",
       "      <td>Pachirisu</td>\n",
       "      <td>Electric</td>\n",
       "      <td>NaN</td>\n",
       "      <td>NaN</td>\n",
       "      <td>43.0</td>\n",
       "      <td>67.0</td>\n",
       "      <td>55.0</td>\n",
       "      <td>92.0</td>\n",
       "      <td>97.0</td>\n",
       "      <td>4.0</td>\n",
       "      <td>...</td>\n",
       "      <td>Dragon</td>\n",
       "      <td>50.0</td>\n",
       "      <td>70.0</td>\n",
       "      <td>101.0</td>\n",
       "      <td>112.0</td>\n",
       "      <td>97.0</td>\n",
       "      <td>83.0</td>\n",
       "      <td>4.0</td>\n",
       "      <td>NaN</td>\n",
       "      <td>True</td>\n",
       "    </tr>\n",
       "    <tr>\n",
       "      <th>15795</th>\n",
       "      <td>Mega Sharpedo</td>\n",
       "      <td>Water</td>\n",
       "      <td>Dark</td>\n",
       "      <td>NaN</td>\n",
       "      <td>145.0</td>\n",
       "      <td>70.0</td>\n",
       "      <td>NaN</td>\n",
       "      <td>58.0</td>\n",
       "      <td>103.0</td>\n",
       "      <td>3.0</td>\n",
       "      <td>...</td>\n",
       "      <td>Water</td>\n",
       "      <td>110.0</td>\n",
       "      <td>133.0</td>\n",
       "      <td>79.0</td>\n",
       "      <td>69.0</td>\n",
       "      <td>58.0</td>\n",
       "      <td>83.0</td>\n",
       "      <td>4.0</td>\n",
       "      <td>False</td>\n",
       "      <td>True</td>\n",
       "    </tr>\n",
       "  </tbody>\n",
       "</table>\n",
       "<p>40000 rows × 23 columns</p>\n",
       "</div>"
      ],
      "text/plain": [
       "                 Name    Type 1  Type 2    HP  Attack  Defense  Sp. Atk  \\\n",
       "39087      Karrablast       Bug     NaN  50.0    72.0     39.0     39.0   \n",
       "30893             NaN      Rock   Water  70.0     NaN    125.0    113.0   \n",
       "45278  Mega Manectric  Electric     NaN  70.0    77.0     81.0      NaN   \n",
       "16398      Bouffalant   Psychic     NaN  95.0   121.0      NaN     39.0   \n",
       "13653          Swablu    Normal  Flying  45.0    36.0     58.0     37.0   \n",
       "...               ...       ...     ...   ...     ...      ...      ...   \n",
       "11284             NaN     Grass   Fairy  60.0    63.0    122.0     79.0   \n",
       "44732          Skrelp    Poison   Water  50.0    63.0     56.0     54.0   \n",
       "38158         Florges     Fairy     NaN  78.0    58.0     65.0    109.0   \n",
       "860         Pachirisu  Electric     NaN   NaN    43.0     67.0     55.0   \n",
       "15795   Mega Sharpedo     Water    Dark   NaN   145.0     70.0      NaN   \n",
       "\n",
       "       Sp. Def  Speed  Generation  ... Type 2__other HP__other Attack__other  \\\n",
       "39087     42.0   55.0         5.0  ...           NaN      50.0          53.0   \n",
       "30893     78.0    NaN         1.0  ...           NaN      65.0          64.0   \n",
       "45278     91.0  136.0         3.0  ...           NaN       NaN          48.0   \n",
       "16398     85.0    NaN         5.0  ...           NaN      75.0         108.0   \n",
       "13653     76.0   56.0         3.0  ...         Fairy      40.0          46.0   \n",
       "...        ...    ...         ...  ...           ...       ...           ...   \n",
       "11284    103.0  118.0         5.0  ...           NaN      55.0           NaN   \n",
       "44732     54.0   36.0         6.0  ...           NaN      65.0          59.0   \n",
       "38158      NaN   75.0         6.0  ...           NaN     104.0          91.0   \n",
       "860       92.0   97.0         4.0  ...        Dragon      50.0          70.0   \n",
       "15795     58.0  103.0         3.0  ...         Water     110.0         133.0   \n",
       "\n",
       "      Defense__other  Sp. Atk__other  Sp. Def__other  Speed__other  \\\n",
       "39087           43.0            47.0            27.0          40.0   \n",
       "30893            NaN            49.0            41.0          39.0   \n",
       "45278           78.0             NaN            83.0          75.0   \n",
       "16398          101.0            39.0            68.0         106.0   \n",
       "13653           68.0           108.0           123.0          86.0   \n",
       "...              ...             ...             ...           ...   \n",
       "11284          107.0             NaN            79.0          56.0   \n",
       "44732           70.0            79.0            79.0          33.0   \n",
       "38158           61.0            97.0           117.0          68.0   \n",
       "860            101.0           112.0            97.0          83.0   \n",
       "15795           79.0            69.0            58.0          83.0   \n",
       "\n",
       "       Generation__other  Legendary__other   Wins  \n",
       "39087                5.0             False   True  \n",
       "30893                5.0             False   True  \n",
       "45278                5.0             False   True  \n",
       "16398                NaN             False  False  \n",
       "13653                1.0             False  False  \n",
       "...                  ...               ...    ...  \n",
       "11284                3.0             False   True  \n",
       "44732                1.0             False  False  \n",
       "38158                3.0               NaN   True  \n",
       "860                  4.0               NaN   True  \n",
       "15795                4.0             False   True  \n",
       "\n",
       "[40000 rows x 23 columns]"
      ]
     },
     "execution_count": 3,
     "metadata": {},
     "output_type": "execute_result"
    }
   ],
   "source": [
    "\"\"\"\n",
    "Dataframe Reperesentation\n",
    "\"\"\"\n",
    "data"
   ]
  },
  {
   "cell_type": "code",
   "execution_count": 4,
   "id": "449dea12-b977-43e4-b454-6eeb6b62d034",
   "metadata": {},
   "outputs": [
    {
     "name": "stdout",
     "output_type": "stream",
     "text": [
      "<class 'pandas.core.frame.DataFrame'>\n",
      "Int64Index: 40000 entries, 39087 to 15795\n",
      "Data columns (total 23 columns):\n",
      " #   Column             Non-Null Count  Dtype  \n",
      "---  ------             --------------  -----  \n",
      " 0   Name               36006 non-null  object \n",
      " 1   Type 1             36026 non-null  object \n",
      " 2   Type 2             19465 non-null  object \n",
      " 3   HP                 35994 non-null  float64\n",
      " 4   Attack             36103 non-null  float64\n",
      " 5   Defense            35966 non-null  float64\n",
      " 6   Sp. Atk            36080 non-null  float64\n",
      " 7   Sp. Def            36018 non-null  float64\n",
      " 8   Speed              36028 non-null  float64\n",
      " 9   Generation         36007 non-null  float64\n",
      " 10  Legendary          36019 non-null  object \n",
      " 11  Name__other        36037 non-null  object \n",
      " 12  Type 1__other      35990 non-null  object \n",
      " 13  Type 2__other      19406 non-null  object \n",
      " 14  HP__other          35895 non-null  float64\n",
      " 15  Attack__other      36005 non-null  float64\n",
      " 16  Defense__other     35984 non-null  float64\n",
      " 17  Sp. Atk__other     35904 non-null  float64\n",
      " 18  Sp. Def__other     35995 non-null  float64\n",
      " 19  Speed__other       35956 non-null  float64\n",
      " 20  Generation__other  36014 non-null  float64\n",
      " 21  Legendary__other   36018 non-null  object \n",
      " 22  Wins               40000 non-null  bool   \n",
      "dtypes: bool(1), float64(14), object(8)\n",
      "memory usage: 7.1+ MB\n"
     ]
    }
   ],
   "source": [
    "\"\"\"\n",
    "Dataframe info first observations:\n",
    "\n",
    "    - Type 2 feature contains alot of nulls (Check what to do)\n",
    "    - Generation is irrelevant info\n",
    "    - Legendary is irrelevant info as it is inplicit on the stats\n",
    "    - Name is irrelevant info\n",
    "\"\"\"\n",
    "data.info()"
   ]
  },
  {
   "cell_type": "code",
   "execution_count": 5,
   "id": "f4dc7db8",
   "metadata": {},
   "outputs": [
    {
     "data": {
      "text/html": [
       "<div>\n",
       "<style scoped>\n",
       "    .dataframe tbody tr th:only-of-type {\n",
       "        vertical-align: middle;\n",
       "    }\n",
       "\n",
       "    .dataframe tbody tr th {\n",
       "        vertical-align: top;\n",
       "    }\n",
       "\n",
       "    .dataframe thead th {\n",
       "        text-align: right;\n",
       "    }\n",
       "</style>\n",
       "<table border=\"1\" class=\"dataframe\">\n",
       "  <thead>\n",
       "    <tr style=\"text-align: right;\">\n",
       "      <th></th>\n",
       "      <th>HP</th>\n",
       "      <th>Attack</th>\n",
       "      <th>Defense</th>\n",
       "      <th>Sp. Atk</th>\n",
       "      <th>Sp. Def</th>\n",
       "      <th>Speed</th>\n",
       "      <th>Generation</th>\n",
       "      <th>HP__other</th>\n",
       "      <th>Attack__other</th>\n",
       "      <th>Defense__other</th>\n",
       "      <th>Sp. Atk__other</th>\n",
       "      <th>Sp. Def__other</th>\n",
       "      <th>Speed__other</th>\n",
       "      <th>Generation__other</th>\n",
       "    </tr>\n",
       "  </thead>\n",
       "  <tbody>\n",
       "    <tr>\n",
       "      <th>count</th>\n",
       "      <td>35994.000000</td>\n",
       "      <td>36103.000000</td>\n",
       "      <td>35966.000000</td>\n",
       "      <td>36080.000000</td>\n",
       "      <td>36018.000000</td>\n",
       "      <td>36028.000000</td>\n",
       "      <td>36007.000000</td>\n",
       "      <td>35895.000000</td>\n",
       "      <td>36005.000000</td>\n",
       "      <td>35984.000000</td>\n",
       "      <td>35904.000000</td>\n",
       "      <td>35995.000000</td>\n",
       "      <td>35956.000000</td>\n",
       "      <td>36014.000000</td>\n",
       "    </tr>\n",
       "    <tr>\n",
       "      <th>mean</th>\n",
       "      <td>69.771879</td>\n",
       "      <td>79.254023</td>\n",
       "      <td>74.663933</td>\n",
       "      <td>73.425139</td>\n",
       "      <td>72.465434</td>\n",
       "      <td>68.790441</td>\n",
       "      <td>3.333630</td>\n",
       "      <td>69.838418</td>\n",
       "      <td>79.254909</td>\n",
       "      <td>74.787961</td>\n",
       "      <td>73.168951</td>\n",
       "      <td>72.582525</td>\n",
       "      <td>68.781622</td>\n",
       "      <td>3.337702</td>\n",
       "    </tr>\n",
       "    <tr>\n",
       "      <th>std</th>\n",
       "      <td>26.610838</td>\n",
       "      <td>33.408366</td>\n",
       "      <td>32.402967</td>\n",
       "      <td>33.507089</td>\n",
       "      <td>28.982072</td>\n",
       "      <td>30.178166</td>\n",
       "      <td>1.656558</td>\n",
       "      <td>26.604671</td>\n",
       "      <td>33.160915</td>\n",
       "      <td>32.456015</td>\n",
       "      <td>33.486762</td>\n",
       "      <td>28.986777</td>\n",
       "      <td>29.998563</td>\n",
       "      <td>1.654265</td>\n",
       "    </tr>\n",
       "    <tr>\n",
       "      <th>min</th>\n",
       "      <td>1.000000</td>\n",
       "      <td>-4.000000</td>\n",
       "      <td>-7.000000</td>\n",
       "      <td>2.000000</td>\n",
       "      <td>8.000000</td>\n",
       "      <td>-4.000000</td>\n",
       "      <td>1.000000</td>\n",
       "      <td>1.000000</td>\n",
       "      <td>-4.000000</td>\n",
       "      <td>-7.000000</td>\n",
       "      <td>-1.000000</td>\n",
       "      <td>8.000000</td>\n",
       "      <td>-2.000000</td>\n",
       "      <td>1.000000</td>\n",
       "    </tr>\n",
       "    <tr>\n",
       "      <th>25%</th>\n",
       "      <td>50.000000</td>\n",
       "      <td>55.000000</td>\n",
       "      <td>51.000000</td>\n",
       "      <td>48.000000</td>\n",
       "      <td>51.000000</td>\n",
       "      <td>46.000000</td>\n",
       "      <td>2.000000</td>\n",
       "      <td>50.000000</td>\n",
       "      <td>55.000000</td>\n",
       "      <td>52.000000</td>\n",
       "      <td>48.000000</td>\n",
       "      <td>51.000000</td>\n",
       "      <td>46.000000</td>\n",
       "      <td>2.000000</td>\n",
       "    </tr>\n",
       "    <tr>\n",
       "      <th>50%</th>\n",
       "      <td>65.000000</td>\n",
       "      <td>76.000000</td>\n",
       "      <td>70.000000</td>\n",
       "      <td>67.000000</td>\n",
       "      <td>69.000000</td>\n",
       "      <td>66.000000</td>\n",
       "      <td>3.000000</td>\n",
       "      <td>65.000000</td>\n",
       "      <td>76.000000</td>\n",
       "      <td>70.000000</td>\n",
       "      <td>67.000000</td>\n",
       "      <td>69.000000</td>\n",
       "      <td>66.000000</td>\n",
       "      <td>3.000000</td>\n",
       "    </tr>\n",
       "    <tr>\n",
       "      <th>75%</th>\n",
       "      <td>81.000000</td>\n",
       "      <td>99.000000</td>\n",
       "      <td>92.000000</td>\n",
       "      <td>95.000000</td>\n",
       "      <td>90.000000</td>\n",
       "      <td>91.000000</td>\n",
       "      <td>5.000000</td>\n",
       "      <td>82.000000</td>\n",
       "      <td>99.000000</td>\n",
       "      <td>92.000000</td>\n",
       "      <td>94.000000</td>\n",
       "      <td>90.000000</td>\n",
       "      <td>91.000000</td>\n",
       "      <td>5.000000</td>\n",
       "    </tr>\n",
       "    <tr>\n",
       "      <th>max</th>\n",
       "      <td>255.000000</td>\n",
       "      <td>200.000000</td>\n",
       "      <td>239.000000</td>\n",
       "      <td>203.000000</td>\n",
       "      <td>238.000000</td>\n",
       "      <td>189.000000</td>\n",
       "      <td>6.000000</td>\n",
       "      <td>255.000000</td>\n",
       "      <td>202.000000</td>\n",
       "      <td>241.000000</td>\n",
       "      <td>206.000000</td>\n",
       "      <td>239.000000</td>\n",
       "      <td>188.000000</td>\n",
       "      <td>6.000000</td>\n",
       "    </tr>\n",
       "  </tbody>\n",
       "</table>\n",
       "</div>"
      ],
      "text/plain": [
       "                 HP        Attack       Defense       Sp. Atk       Sp. Def  \\\n",
       "count  35994.000000  36103.000000  35966.000000  36080.000000  36018.000000   \n",
       "mean      69.771879     79.254023     74.663933     73.425139     72.465434   \n",
       "std       26.610838     33.408366     32.402967     33.507089     28.982072   \n",
       "min        1.000000     -4.000000     -7.000000      2.000000      8.000000   \n",
       "25%       50.000000     55.000000     51.000000     48.000000     51.000000   \n",
       "50%       65.000000     76.000000     70.000000     67.000000     69.000000   \n",
       "75%       81.000000     99.000000     92.000000     95.000000     90.000000   \n",
       "max      255.000000    200.000000    239.000000    203.000000    238.000000   \n",
       "\n",
       "              Speed    Generation     HP__other  Attack__other  \\\n",
       "count  36028.000000  36007.000000  35895.000000   36005.000000   \n",
       "mean      68.790441      3.333630     69.838418      79.254909   \n",
       "std       30.178166      1.656558     26.604671      33.160915   \n",
       "min       -4.000000      1.000000      1.000000      -4.000000   \n",
       "25%       46.000000      2.000000     50.000000      55.000000   \n",
       "50%       66.000000      3.000000     65.000000      76.000000   \n",
       "75%       91.000000      5.000000     82.000000      99.000000   \n",
       "max      189.000000      6.000000    255.000000     202.000000   \n",
       "\n",
       "       Defense__other  Sp. Atk__other  Sp. Def__other  Speed__other  \\\n",
       "count    35984.000000    35904.000000    35995.000000  35956.000000   \n",
       "mean        74.787961       73.168951       72.582525     68.781622   \n",
       "std         32.456015       33.486762       28.986777     29.998563   \n",
       "min         -7.000000       -1.000000        8.000000     -2.000000   \n",
       "25%         52.000000       48.000000       51.000000     46.000000   \n",
       "50%         70.000000       67.000000       69.000000     66.000000   \n",
       "75%         92.000000       94.000000       90.000000     91.000000   \n",
       "max        241.000000      206.000000      239.000000    188.000000   \n",
       "\n",
       "       Generation__other  \n",
       "count       36014.000000  \n",
       "mean            3.337702  \n",
       "std             1.654265  \n",
       "min             1.000000  \n",
       "25%             2.000000  \n",
       "50%             3.000000  \n",
       "75%             5.000000  \n",
       "max             6.000000  "
      ]
     },
     "execution_count": 5,
     "metadata": {},
     "output_type": "execute_result"
    }
   ],
   "source": [
    "\"\"\"\n",
    "Impossible data found in minimums:\n",
    "    There are some stats in neggative. Look for impossible values.\n",
    "\"\"\"\n",
    "data.describe()"
   ]
  },
  {
   "cell_type": "markdown",
   "id": "e99b569e",
   "metadata": {},
   "source": [
    "1. Which features are categorical? Which are continuous?"
   ]
  },
  {
   "cell_type": "markdown",
   "id": "e81dc728",
   "metadata": {},
   "source": [
    "**Categorical**:\n",
    "    \n",
    "    - Name \n",
    "    - Type 1\n",
    "    - Type 2\n",
    "    - Legendary\n",
    "    - Name_other\n",
    "    - Type 1_other \n",
    "    - Type 2_other \n",
    "    - Legendary_other\n",
    "\n",
    "\n",
    "**Continous**:\n",
    "\n",
    "    - HP\n",
    "    - Attack\n",
    "    - Defense\n",
    "    - Sp. Atk\n",
    "    - Sp. Def\n",
    "    - Speed\n",
    "    - HP_other\n",
    "    - Attack_other\n",
    "    - Defense_other\n",
    "    - Sp. Atk_other\n",
    "    - Sp. Def_other\n",
    "    - Speed_other\n",
    "    \n",
    "    \n",
    "**Could be both**:\n",
    "    \n",
    "    - Generation\n",
    "    - Generation_other\n",
    "    \n",
    "As the generation is a set of fixed values can be seen as a categorical value. But if we think a bit further there are pokemons from one generation that have specific statistics to counterrest the statistics of previous generations.\n",
    "    "
   ]
  },
  {
   "cell_type": "markdown",
   "id": "74d6fdf6-20ac-4c0c-b0fc-e39941f774cc",
   "metadata": {},
   "source": [
    "2. Observe the distribution of the \"Type 1\" variable. Use a plot to show this distribution."
   ]
  },
  {
   "cell_type": "code",
   "execution_count": 6,
   "id": "973db97c-436b-480c-924b-76f19f78f619",
   "metadata": {},
   "outputs": [
    {
     "data": {
      "image/png": "[encoded data removed]",
      "text/plain": [
       "<Figure size 432x288 with 1 Axes>"
      ]
     },
     "metadata": {
      "needs_background": "light"
     },
     "output_type": "display_data"
    }
   ],
   "source": [
    "plot = sns.histplot(data = data, x = \"Type 1\")\n",
    "plot.tick_params(axis='x', rotation=75)"
   ]
  },
  {
   "cell_type": "markdown",
   "id": "f024e8b3-590e-4908-8e1e-a77673ec6db2",
   "metadata": {},
   "source": [
    "3. Determine which of the features have missing values. How many missing values there are for each one?"
   ]
  },
  {
   "cell_type": "code",
   "execution_count": 7,
   "id": "02f0dc1e-d1a5-4d06-aaa8-eec8ba0d306f",
   "metadata": {},
   "outputs": [
    {
     "name": "stdout",
     "output_type": "stream",
     "text": [
      "<class 'pandas.core.frame.DataFrame'>\n",
      "Int64Index: 40000 entries, 39087 to 15795\n",
      "Data columns (total 23 columns):\n",
      " #   Column             Non-Null Count  Dtype  \n",
      "---  ------             --------------  -----  \n",
      " 0   Name               36006 non-null  object \n",
      " 1   Type 1             36026 non-null  object \n",
      " 2   Type 2             19465 non-null  object \n",
      " 3   HP                 35994 non-null  float64\n",
      " 4   Attack             36103 non-null  float64\n",
      " 5   Defense            35966 non-null  float64\n",
      " 6   Sp. Atk            36080 non-null  float64\n",
      " 7   Sp. Def            36018 non-null  float64\n",
      " 8   Speed              36028 non-null  float64\n",
      " 9   Generation         36007 non-null  float64\n",
      " 10  Legendary          36019 non-null  object \n",
      " 11  Name__other        36037 non-null  object \n",
      " 12  Type 1__other      35990 non-null  object \n",
      " 13  Type 2__other      19406 non-null  object \n",
      " 14  HP__other          35895 non-null  float64\n",
      " 15  Attack__other      36005 non-null  float64\n",
      " 16  Defense__other     35984 non-null  float64\n",
      " 17  Sp. Atk__other     35904 non-null  float64\n",
      " 18  Sp. Def__other     35995 non-null  float64\n",
      " 19  Speed__other       35956 non-null  float64\n",
      " 20  Generation__other  36014 non-null  float64\n",
      " 21  Legendary__other   36018 non-null  object \n",
      " 22  Wins               40000 non-null  bool   \n",
      "dtypes: bool(1), float64(14), object(8)\n",
      "memory usage: 7.1+ MB\n"
     ]
    }
   ],
   "source": [
    "\"\"\"\n",
    "Here we can see that almos all features have missing values. \n",
    "As total of entries is 40000 and all features have <40000\n",
    "\"\"\"\n",
    "data.info()"
   ]
  },
  {
   "cell_type": "markdown",
   "id": "7f983236-2bf6-495f-adc2-266c0dba82e6",
   "metadata": {},
   "source": [
    "4. Analize the distribution of the target column. Is it balanced?"
   ]
  },
  {
   "cell_type": "code",
   "execution_count": 8,
   "id": "a253ecaf-ee73-42ce-a8eb-db7d23862356",
   "metadata": {},
   "outputs": [
    {
     "data": {
      "text/plain": [
       "False    21152\n",
       "True     18848\n",
       "Name: Wins, dtype: int64"
      ]
     },
     "execution_count": 8,
     "metadata": {},
     "output_type": "execute_result"
    }
   ],
   "source": [
    "\"\"\"\n",
    "Yes it is!\n",
    "\"\"\"\n",
    "data[\"Wins\"].value_counts()"
   ]
  },
  {
   "cell_type": "markdown",
   "id": "56e6aacc-2feb-4f38-a7fa-b17fe4ddf1d1",
   "metadata": {},
   "source": [
    "## More visualitzation on the data"
   ]
  },
  {
   "cell_type": "markdown",
   "id": "eb945273-85e8-4e37-b47a-f61c2d549861",
   "metadata": {},
   "source": [
    "**Type relation with statistics**\n",
    "\n",
    "Here we want to check if the Type have some influence in determined statistics in orther to do use it as an heuristic when filling null values:"
   ]
  },
  {
   "cell_type": "code",
   "execution_count": 52,
   "id": "233fec26-1da8-4678-8670-451db9f5f8d9",
   "metadata": {},
   "outputs": [],
   "source": [
    "type_1 = list(filter(lambda v: v==v, data[\"Type 1\"].unique()))\n",
    "type_2 = list(filter(lambda v: v==v, data[\"Type 2\"].unique()))\n",
    "type_1_other = list(filter(lambda v: v==v, data[\"Type 1__other\"].unique()))\n",
    "type_2_other = list(filter(lambda v: v==v, data[\"Type 2__other\"].unique()))"
   ]
  },
  {
   "cell_type": "code",
   "execution_count": 120,
   "id": "3f368028-1f83-4a64-b558-dbf4d6ef1387",
   "metadata": {},
   "outputs": [],
   "source": [
    "type_list = list(set(type_1 + type_2 + type_1_other + type_2_other))                  "
   ]
  },
  {
   "cell_type": "code",
   "execution_count": 121,
   "id": "cf58bcf2-94ff-4ed5-8f0a-6cff3b099385",
   "metadata": {},
   "outputs": [],
   "source": [
    "pokemon = data[['Name', 'Type 1', 'Type 2', 'HP', 'Attack', 'Defense', 'Sp. Atk', 'Sp. Def', 'Speed', 'Generation', 'Legendary']]\n",
    "pokemon_other = data[['Name__other', 'Type 1__other', 'Type 2__other', 'HP__other', 'Attack__other', 'Defense__other', 'Sp. Atk__other', 'Sp. Def__other', 'Speed__other', 'Generation__other', 'Legendary__other']]\n",
    "#Lets get this two Datasets Together\n",
    "pokemon_other = pokemon_other.rename(columns={'Name__other' : 'Name', \n",
    "                                      'Type 1__other' : 'Type 1', \n",
    "                                      'Type 2__other' : 'Type 2', \n",
    "                                      'HP__other' : 'HP',\n",
    "                                      'Attack__other' : 'Attack',\n",
    "                                      'Defense__other' : 'Defense',\n",
    "                                      'Sp. Atk__other' : 'Sp. Atk',\n",
    "                                      'Sp. Def__other' : 'Sp. Def',\n",
    "                                      'Speed__other' : 'Speed',\n",
    "                                      'Generation__other' : 'Generation',\n",
    "                                      'Legendary__other' : 'Legendary'\n",
    "                                     })\n",
    "pokemons = pandas.concat([pokemon, pokemon_other])"
   ]
  },
  {
   "cell_type": "code",
   "execution_count": 89,
   "id": "75f9a964-cb18-4ae2-9631-dc1c24481a75",
   "metadata": {},
   "outputs": [],
   "source": [
    "def split_by_type(dataset):\n",
    "    type_classification = {}\n",
    "    for ptype in type_list:\n",
    "        type_classification[ptype] = dataset.loc[(dataset['Type 1'] == ptype) | (dataset['Type 2'] == ptype)]\n",
    "    return type_classification"
   ]
  },
  {
   "cell_type": "code",
   "execution_count": 91,
   "id": "fb82e64d-645c-4f51-8282-655e65e56f6b",
   "metadata": {},
   "outputs": [],
   "source": [
    "pokemons_by_type = split_by_type(pokemons)"
   ]
  },
  {
   "cell_type": "code",
   "execution_count": 96,
   "id": "08cea133-04ed-4aeb-a988-4c705dca8779",
   "metadata": {},
   "outputs": [],
   "source": [
    "stats_mean_by_type = {\n",
    "    'HP' : [],\n",
    "    'Attack' : [],\n",
    "    'Defense' : [],\n",
    "    'Sp. Atk' : [],\n",
    "    'Sp. Def' : [],\n",
    "    'Speed' : []\n",
    "}\n",
    "for ptype, dataframe in pokemons_by_type.items():\n",
    "    stats_mean_by_type['HP'].append([ptype, dataframe.describe()['HP']['mean']])\n",
    "    stats_mean_by_type['Attack'].append([ptype, dataframe.describe()['Attack']['mean']])\n",
    "    stats_mean_by_type['Defense'].append([ptype, dataframe.describe()['Defense']['mean']])\n",
    "    stats_mean_by_type['Sp. Atk'].append([ptype, dataframe.describe()['Sp. Atk']['mean']])\n",
    "    stats_mean_by_type['Sp. Def'].append([ptype, dataframe.describe()['Sp. Def']['mean']])\n",
    "    stats_mean_by_type['Speed'].append([ptype, dataframe.describe()['Speed']['mean']])"
   ]
  },
  {
   "cell_type": "code",
   "execution_count": 113,
   "id": "d53e469b-a91a-461f-96d2-a04555f9abd3",
   "metadata": {},
   "outputs": [],
   "source": [
    "def plot_by_stat(data):\n",
    "    mean_by_type = pandas.DataFrame(data, columns=[\"type\", \"mean\"])\n",
    "    plot = sns.barplot(data = mean_by_type, x = \"type\", y = \"mean\")\n",
    "    plot.tick_params(axis='x', rotation=75)"
   ]
  },
  {
   "cell_type": "markdown",
   "id": "d6962a80-9cf3-4c6b-a456-d9188b843995",
   "metadata": {},
   "source": [
    "**HP**"
   ]
  },
  {
   "cell_type": "code",
   "execution_count": 114,
   "id": "4f7c2048-bc0e-4042-88c7-d860dbb0b6fe",
   "metadata": {},
   "outputs": [
    {
     "data": {
      "image/png": "[encoded data removed]",
      "text/plain": [
       "<Figure size 432x288 with 1 Axes>"
      ]
     },
     "metadata": {
      "needs_background": "light"
     },
     "output_type": "display_data"
    }
   ],
   "source": [
    "plot_by_stat(stats_mean_by_type['HP'])"
   ]
  },
  {
   "cell_type": "markdown",
   "id": "1f6a1a6e-016e-4913-adf4-9c63c26b08d0",
   "metadata": {},
   "source": [
    "**Attack**"
   ]
  },
  {
   "cell_type": "code",
   "execution_count": 115,
   "id": "923a101b-e649-4c23-a372-f9cf8a0c29f0",
   "metadata": {},
   "outputs": [
    {
     "data": {
      "image/png": "[encoded data removed]",
      "text/plain": [
       "<Figure size 432x288 with 1 Axes>"
      ]
     },
     "metadata": {
      "needs_background": "light"
     },
     "output_type": "display_data"
    }
   ],
   "source": [
    "plot_by_stat(stats_mean_by_type['Attack'])"
   ]
  },
  {
   "cell_type": "markdown",
   "id": "be8daa8a-07c7-42fd-aa96-1b70b20c2f27",
   "metadata": {},
   "source": [
    "**Defense**"
   ]
  },
  {
   "cell_type": "code",
   "execution_count": 116,
   "id": "458ab23e-707b-42a0-9b12-e476c64eceb4",
   "metadata": {},
   "outputs": [
    {
     "data": {
      "image/png": "[encoded data removed]",
      "text/plain": [
       "<Figure size 432x288 with 1 Axes>"
      ]
     },
     "metadata": {
      "needs_background": "light"
     },
     "output_type": "display_data"
    }
   ],
   "source": [
    "plot_by_stat(stats_mean_by_type['Defense'])"
   ]
  },
  {
   "cell_type": "markdown",
   "id": "741c393f-be51-48c2-b01e-cacecb37fc91",
   "metadata": {},
   "source": [
    "**Sp. Atk**"
   ]
  },
  {
   "cell_type": "code",
   "execution_count": 117,
   "id": "354862c9-2761-4e9e-8194-492cc014ad13",
   "metadata": {},
   "outputs": [
    {
     "data": {
      "image/png": "[encoded data removed]",
      "text/plain": [
       "<Figure size 432x288 with 1 Axes>"
      ]
     },
     "metadata": {
      "needs_background": "light"
     },
     "output_type": "display_data"
    }
   ],
   "source": [
    "plot_by_stat(stats_mean_by_type['Sp. Atk'])"
   ]
  },
  {
   "cell_type": "markdown",
   "id": "df1a62b1-8955-4538-9c07-03e2790b30f2",
   "metadata": {},
   "source": [
    "**Sp. Def**"
   ]
  },
  {
   "cell_type": "code",
   "execution_count": 118,
   "id": "158b9c4f-7d48-4638-9012-2062ff4b7dff",
   "metadata": {},
   "outputs": [
    {
     "data": {
      "image/png": "[encoded data removed]",
      "text/plain": [
       "<Figure size 432x288 with 1 Axes>"
      ]
     },
     "metadata": {
      "needs_background": "light"
     },
     "output_type": "display_data"
    }
   ],
   "source": [
    "plot_by_stat(stats_mean_by_type['Sp. Def'])"
   ]
  },
  {
   "cell_type": "markdown",
   "id": "3e318633-9994-456c-bde2-65d6292b04ee",
   "metadata": {},
   "source": [
    "**Speed**"
   ]
  },
  {
   "cell_type": "code",
   "execution_count": 119,
   "id": "9a2a5b32-91f0-4365-90fc-c3206030a79e",
   "metadata": {},
   "outputs": [
    {
     "data": {
      "image/png": "[encoded data removed]",
      "text/plain": [
       "<Figure size 432x288 with 1 Axes>"
      ]
     },
     "metadata": {
      "needs_background": "light"
     },
     "output_type": "display_data"
    }
   ],
   "source": [
    "plot_by_stat(stats_mean_by_type['Speed'])"
   ]
  },
  {
   "cell_type": "markdown",
   "id": "0515ea72-fc5a-44ec-973a-522c873e9189",
   "metadata": {},
   "source": [
    "**Check nulls**"
   ]
  },
  {
   "cell_type": "markdown",
   "id": "041ef11d-c5b9-4d05-b802-1be34768c75c",
   "metadata": {},
   "source": [
    "Rows with all nulls"
   ]
  },
  {
   "cell_type": "code",
   "execution_count": 127,
   "id": "ebdf75d1-4a6a-484a-be9a-501ade385bd7",
   "metadata": {},
   "outputs": [
    {
     "data": {
      "text/plain": [
       "0"
      ]
     },
     "execution_count": 127,
     "metadata": {},
     "output_type": "execute_result"
    }
   ],
   "source": [
    "def nans(df): return df[df.isnull().all(axis=1)]\n",
    "len(nans(data))"
   ]
  },
  {
   "cell_type": "markdown",
   "id": "9cf8c828-ea39-46ae-a0ea-9b3f347ca606",
   "metadata": {},
   "source": [
    "Rows with at least 1 null"
   ]
  },
  {
   "cell_type": "code",
   "execution_count": 128,
   "id": "062234c8-bb8a-4063-b58b-7e769dc5e9c0",
   "metadata": {},
   "outputs": [
    {
     "data": {
      "text/plain": [
       "38939"
      ]
     },
     "execution_count": 128,
     "metadata": {},
     "output_type": "execute_result"
    }
   ],
   "source": [
    "def nans(df): return df[df.isnull().any(axis=1)]\n",
    "len(nans(data))"
   ]
  },
  {
   "cell_type": "code",
   "execution_count": 136,
   "id": "958cd699-44c6-4715-812f-db55f9335247",
   "metadata": {},
   "outputs": [],
   "source": [
    "def null_count(dataframe):\n",
    "    count = []\n",
    "    nulls = 1\n",
    "    i = 0\n",
    "    while nulls != 0:\n",
    "        nulls = len([x for x in data.isnull().sum(axis=1).tolist() if x > i])\n",
    "        count.append([i, nulls])\n",
    "        i += 1\n",
    "    return count"
   ]
  },
  {
   "cell_type": "code",
   "execution_count": 138,
   "id": "6c64c497-2175-43e7-b210-0c9715a54656",
   "metadata": {},
   "outputs": [
    {
     "data": {
      "text/plain": [
       "[[0, 38939],\n",
       " [1, 34037],\n",
       " [2, 24582],\n",
       " [3, 14004],\n",
       " [4, 6339],\n",
       " [5, 2265],\n",
       " [6, 700],\n",
       " [7, 174],\n",
       " [8, 34],\n",
       " [9, 8],\n",
       " [10, 1],\n",
       " [11, 1],\n",
       " [12, 0]]"
      ]
     },
     "execution_count": 138,
     "metadata": {},
     "output_type": "execute_result"
    }
   ],
   "source": [
    "null_count(data)"
   ]
  },
  {
   "cell_type": "markdown",
   "id": "15bd9135-71cf-4624-8a35-208a23faaaeb",
   "metadata": {
    "tags": []
   },
   "source": [
    "## Part 2 - Preprocess the data (3 points)\n",
    "Once we know how the dataset is, we can proceed with the cleaning of the data. This includes:\n",
    "\n",
    "- Select the features that you want to use (p.e. removing too specific features). Explain why each feature is used or discarded.\n",
    "- Impute the missing values. Explain why you use this imputer and not another one. If you use different imputers for different features, explain the reason why you do this.\n",
    "- Encode the values of the features to work with the model you choose. This can be either encoding the categorical values, or discretizing continuous values."
   ]
  },
  {
   "cell_type": "code",
   "execution_count": 9,
   "id": "9bf69c3b-a774-4386-bfed-42e127964245",
   "metadata": {},
   "outputs": [],
   "source": [
    "# Your code here..."
   ]
  },
  {
   "cell_type": "markdown",
   "id": "616b803e-0f87-41dc-a1a9-a7256fb824ba",
   "metadata": {},
   "source": [
    "## Part 3 - Training your model (3 points)\n",
    "In this part you have to train a **classifier** model to predict if a Pokemon will win or not a battle against another Pokemon. For this, you should explore at least 3 different classifiers.\n",
    "\n",
    "You have to train and evaluate those classifiers using cross-validation in order to select the best one. Then, you should also study the results of the model (overfit, underfit, possible bias...).\n",
    "\n",
    "1. Train (at least) 3 different classifiers\n",
    "2. Evaluate the 3 classifiers using cross-validation. Select the best model according to this metric.\n",
    "3. For the selected model: \n",
    "   1. Get the accuracy for data not seen during the training process\n",
    "   2. Plot the confusion matrix\n",
    "   3. Analize the results of accuracy and the confusion matrix"
   ]
  },
  {
   "cell_type": "code",
   "execution_count": 10,
   "id": "f5457ef8-37b1-4a60-bc0a-6eef63ddb6d9",
   "metadata": {},
   "outputs": [],
   "source": [
    "# Your code here..."
   ]
  },
  {
   "cell_type": "markdown",
   "id": "bc186c17-b9e0-4ad6-82a9-6b638ab41d0d",
   "metadata": {},
   "source": [
    "## Part 4 (Optional) - Create an ensemble and configure the model\n",
    "\n",
    "You have trained different classifiers but selected only one of them as \"the best\" one. Maybe instead of having the models competing between them, having them to colaborate would yield better results. \n",
    "\n",
    "We propose you to create an ensemble of the different classifiers explored in *Part 3*. You should compare the ensemble with the individual models using cross-validation, and then get the final accuracy and the confusion matrix for the ensemble.\n",
    "As a bonus, try to tune the parameters of this ensemble using either `GridSearchCV` or `RandomizedSearchCV`.\n",
    "\n",
    "1. Train an ensemble with the classifiers in *Part 3*.\n",
    "2. Compare the performance of this ensemble using cross-validation, the final accuracy, and the confusion matrix. Analyze the results.\n",
    "3. Fine-tune the hyper-parameters of the ensemble using `GridSearchCV` or `RandomizedSearchCV`."
   ]
  },
  {
   "cell_type": "code",
   "execution_count": 11,
   "id": "e6f8a7e8-0d31-44a0-bbfa-ed74337edf8c",
   "metadata": {},
   "outputs": [],
   "source": [
    "# Your code here..."
   ]
  },
  {
   "cell_type": "markdown",
   "id": "44b2b144-ee23-4c6a-b8c8-4abf6e85dedb",
   "metadata": {},
   "source": [
    "## Part 5 - Wrap-up (2 points)\n",
    "The final part of this assignment is to wrap-up your classifier into a pipeline. This pipeline will execute the entire process:\n",
    "\n",
    "- Preprocess the data\n",
    "    - Select features\n",
    "    - Impute data\n",
    "    - Encode values\n",
    "- The classifier selected in *Part 3* (or the ensemble if it is better)\n",
    "\n",
    "This pipeline will be used in the other provided notebook to generate the predictions for the combats you have to submit.\n",
    "\n",
    "To ensure everything works as expected, we recommend you to load the dataset again before using it with the pipeline. You should also compare the accuracy and the confusion matrix from the pipeline with the model trained before. **Remember to set the random state to all the required transformers and estimators to have a constant output**."
   ]
  },
  {
   "cell_type": "code",
   "execution_count": 12,
   "id": "f464b6bb-4f99-4671-ba66-5f8d93ee1a46",
   "metadata": {},
   "outputs": [],
   "source": [
    "# Your code here..."
   ]
  }
 ],
 "metadata": {
  "kernelspec": {
   "display_name": "Python 3 (ipykernel)",
   "language": "python",
   "name": "python3"
  },
  "language_info": {
   "codemirror_mode": {
    "name": "ipython",
    "version": 3
   },
   "file_extension": ".py",
   "mimetype": "text/x-python",
   "name": "python",
   "nbconvert_exporter": "python",
   "pygments_lexer": "ipython3",
   "version": "3.9.9"
  }
 },
 "nbformat": 4,
 "nbformat_minor": 5
}
